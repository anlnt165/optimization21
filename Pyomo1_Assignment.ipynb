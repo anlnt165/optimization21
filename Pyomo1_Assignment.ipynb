{
  "nbformat": 4,
  "nbformat_minor": 0,
  "metadata": {
    "kernelspec": {
      "display_name": "Python 3",
      "language": "python",
      "name": "python3"
    },
    "language_info": {
      "codemirror_mode": {
        "name": "ipython",
        "version": 3
      },
      "file_extension": ".py",
      "mimetype": "text/x-python",
      "name": "python",
      "nbconvert_exporter": "python",
      "pygments_lexer": "ipython3",
      "version": "3.8.6"
    },
    "colab": {
      "name": "Pyomo1 Assignment.ipynb",
      "provenance": [],
      "collapsed_sections": []
    }
  },
  "cells": [
    {
      "cell_type": "markdown",
      "metadata": {
        "id": "FR-a7Op5KVsk"
      },
      "source": [
        "<!--NOTEBOOK_HEADER-->\n",
        "*This notebook contains material from [CBE60499](https://ndcbe.github.io/CBE60499);\n",
        "content is available [on Github](git@github.com:ndcbe/CBE60499.git).*\n"
      ]
    },
    {
      "cell_type": "markdown",
      "metadata": {
        "id": "RO4UqJZgKVsr"
      },
      "source": [
        "<!--NAVIGATION-->\n",
        "< [2.5 Stochastic Programming](https://ndcbe.github.io/CBE60499/02.05-SP.html) | [Contents](toc.html) | [2.7 Pyomo Homework 2](https://ndcbe.github.io/CBE60499/02.07-Pyomo2.html) ><p><a href=\"https://colab.research.google.com/github/ndcbe/CBE60499/blob/master/docs/02.06-Pyomo1.ipynb\"> <img align=\"left\" src=\"https://colab.research.google.com/assets/colab-badge.svg\" alt=\"Open in Colab\" title=\"Open in Google Colaboratory\"></a><p><a href=\"https://ndcbe.github.io/CBE60499/02.06-Pyomo1.ipynb\"> <img align=\"left\" src=\"https://img.shields.io/badge/Github-Download-blue.svg\" alt=\"Download\" title=\"Download Notebook\"></a>"
      ]
    },
    {
      "cell_type": "code",
      "metadata": {
        "id": "lem9nSyLKVss"
      },
      "source": [
        "# IMPORT DATA FILES USED BY THIS NOTEBOOK\n",
        "import os,  requests\n",
        "\n",
        "file_links = [(\"data/knapsack_data.csv\", \"https://ndcbe.github.io/CBE60499/data/knapsack_data.csv\")]\n",
        "\n",
        "# This cell has been added by nbpages. Run this cell to download data files required for this notebook.\n",
        "\n",
        "for filepath, fileurl in file_links:\n",
        "    stem, filename = os.path.split(filepath)\n",
        "    if stem:\n",
        "        if not os.path.exists(stem):\n",
        "            os.mkdir(stem)\n",
        "    if not os.path.isfile(filepath):\n",
        "        with open(filepath, 'wb') as f:\n",
        "            response = requests.get(fileurl)\n",
        "            f.write(response.content)\n"
      ],
      "execution_count": null,
      "outputs": []
    },
    {
      "cell_type": "markdown",
      "metadata": {
        "nbpages": {
          "level": 1,
          "link": "[2.6 Pyomo Homework 1](https://ndcbe.github.io/CBE60499/02.06-Pyomo1.html#2.6-Pyomo-Homework-1)",
          "section": "2.6 Pyomo Homework 1"
        },
        "id": "BHhR5oANKVst"
      },
      "source": [
        "# 2.6 Pyomo Homework 1\n",
        "\n",
        "**Due Date:** 2/16/2021"
      ]
    },
    {
      "cell_type": "code",
      "metadata": {
        "nbpages": {
          "level": 1,
          "link": "[2.6 Pyomo Homework 1](https://ndcbe.github.io/CBE60499/02.06-Pyomo1.html#2.6-Pyomo-Homework-1)",
          "section": "2.6 Pyomo Homework 1"
        },
        "id": "g1_TSq1nKVst",
        "colab": {
          "base_uri": "https://localhost:8080/"
        },
        "outputId": "cd8f3f10-48a1-4310-936b-73a6e73dabb9"
      },
      "source": [
        "# This code cell installs packages on Colab\n",
        "\n",
        "import sys\n",
        "if \"google.colab\" in sys.modules:\n",
        "    !wget \"https://raw.githubusercontent.com/ndcbe/CBE60499/main/notebooks/helper.py\"\n",
        "    import helper\n",
        "    helper.install_idaes()\n",
        "    helper.install_ipopt()\n",
        "    helper.install_glpk()\n",
        "    helper.download_data(['knapsack_data.xlsx','knapsack_data.csv'])"
      ],
      "execution_count": null,
      "outputs": [
        {
          "output_type": "stream",
          "text": [
            "--2021-02-15 19:16:37--  https://raw.githubusercontent.com/ndcbe/CBE60499/main/notebooks/helper.py\n",
            "Resolving raw.githubusercontent.com (raw.githubusercontent.com)... 185.199.108.133, 185.199.109.133, 185.199.110.133, ...\n",
            "Connecting to raw.githubusercontent.com (raw.githubusercontent.com)|185.199.108.133|:443... connected.\n",
            "HTTP request sent, awaiting response... 200 OK\n",
            "Length: 6456 (6.3K) [text/plain]\n",
            "Saving to: ‘helper.py’\n",
            "\n",
            "helper.py           100%[===================>]   6.30K  --.-KB/s    in 0s      \n",
            "\n",
            "2021-02-15 19:16:37 (79.0 MB/s) - ‘helper.py’ saved [6456/6456]\n",
            "\n",
            "Installing idaes via pip...\n",
            "idaes was successfully installed\n",
            "Running idaes get-extensions to install Ipopt and k_aug...\n",
            "Ipopt 3.13.2 (x86_64-pc-linux-gnu), ASL(20190605)\n",
            "\n",
            "[K_AUG] written by D.T. @2018 (x86_64-pc-linux-gnu), ASL(20190605)\n",
            "\n",
            "ipopt was successfully installed\n",
            "k_aug was successfully installed\n",
            "Installing glpk via apt-get...\n",
            "Checking for ./data/knapsack_data.xlsx\n",
            "\tDownloading https://raw.githubusercontent.com/ndcbe/CBE60499/main/docs/data/knapsack_data.xlsx\n",
            "Checking for ./data/knapsack_data.csv\n",
            "\tFile found!\n"
          ],
          "name": "stdout"
        }
      ]
    },
    {
      "cell_type": "code",
      "metadata": {
        "nbpages": {
          "level": 1,
          "link": "[2.6 Pyomo Homework 1](https://ndcbe.github.io/CBE60499/02.06-Pyomo1.html#2.6-Pyomo-Homework-1)",
          "section": "2.6 Pyomo Homework 1"
        },
        "id": "0mJo6hGOKVst"
      },
      "source": [
        "## IMPORT LIBRARIES\n",
        "from pyomo.environ import *\n",
        "import pandas as pd"
      ],
      "execution_count": null,
      "outputs": []
    },
    {
      "cell_type": "markdown",
      "metadata": {
        "nbpages": {
          "level": 1,
          "link": "[2.6 Pyomo Homework 1](https://ndcbe.github.io/CBE60499/02.06-Pyomo1.html#2.6-Pyomo-Homework-1)",
          "section": "2.6 Pyomo Homework 1"
        },
        "id": "LwlsByEmKVsu"
      },
      "source": [
        "Special thanks to the Pyomo team for create these excercises as part of their excellent PyomoFest workshop."
      ]
    },
    {
      "cell_type": "markdown",
      "metadata": {
        "nbpages": {
          "level": 2,
          "link": "[2.6.1 Pyomo Fundamentals](https://ndcbe.github.io/CBE60499/02.06-Pyomo1.html#2.6.1-Pyomo-Fundamentals)",
          "section": "2.6.1 Pyomo Fundamentals"
        },
        "id": "K3QCev1PKVsv"
      },
      "source": [
        "## 2.6.1 Pyomo Fundamentals"
      ]
    },
    {
      "cell_type": "markdown",
      "metadata": {
        "nbpages": {
          "level": 3,
          "link": "[2.6.1.1 Knapsack example](https://ndcbe.github.io/CBE60499/02.06-Pyomo1.html#2.6.1.1-Knapsack-example)",
          "section": "2.6.1.1 Knapsack example"
        },
        "id": "qu_LGz0lKVsv"
      },
      "source": [
        "### 2.6.1.1 Knapsack example\n",
        "\n",
        "Solve the knapsack problem given below using GLPK and answer the following questions:\n",
        "\n",
        "1. Which items are acquired in the optimal solution?\n",
        "\n",
        "2. What is the value of the selected items?"
      ]
    },
    {
      "cell_type": "code",
      "metadata": {
        "nbpages": {
          "level": 3,
          "link": "[2.6.1.1 Knapsack example](https://ndcbe.github.io/CBE60499/02.06-Pyomo1.html#2.6.1.1-Knapsack-example)",
          "section": "2.6.1.1 Knapsack example"
        },
        "id": "1P2DR7dVKVsw",
        "colab": {
          "base_uri": "https://localhost:8080/"
        },
        "outputId": "feeffa7c-52e4-4f47-f3f1-6c525a8eb891"
      },
      "source": [
        "A = ['hammer', 'wrench', 'screwdriver', 'towel']\n",
        "b = {'hammer':8, 'wrench':3, 'screwdriver':6, 'towel':11}\n",
        "w = {'hammer':5, 'wrench':7, 'screwdriver':4, 'towel':3}\n",
        "W_max = 14 # Weight max\n",
        "\n",
        "model = ConcreteModel()\n",
        "model.x = Var( A, within=Binary )\n",
        "\n",
        "# Define parameters\n",
        "model.benefits = Param(A, initialize = b)\n",
        "model.weight = Param(A, initialize = w)\n",
        "\n",
        "# Define objectives\n",
        "model.obj = Objective(\n",
        "    expr = sum( model.benefits[i]*model.x[i] for i in A ), \n",
        "    sense = maximize )\n",
        "# Define constraints\n",
        "model.weight_con = Constraint(\n",
        "    expr = sum( model.weight[i]*model.x[i] for i in A ) <= W_max )\n",
        "\n",
        "model.display()\n",
        "\n",
        "# Solver\n",
        "solver = SolverFactory('glpk')\n",
        "results = solver.solve(model, tee= True)"
      ],
      "execution_count": null,
      "outputs": [
        {
          "output_type": "stream",
          "text": [
            "Model unknown\n",
            "\n",
            "  Variables:\n",
            "    x : Size=4, Index=x_index\n",
            "        Key         : Lower : Value : Upper : Fixed : Stale : Domain\n",
            "             hammer :     0 :  None :     1 : False :  True : Binary\n",
            "        screwdriver :     0 :  None :     1 : False :  True : Binary\n",
            "              towel :     0 :  None :     1 : False :  True : Binary\n",
            "             wrench :     0 :  None :     1 : False :  True : Binary\n",
            "\n",
            "  Objectives:\n",
            "    obj : Size=1, Index=None, Active=True\n",
            "ERROR: evaluating object as numeric value: x[hammer]\n",
            "        (object: <class 'pyomo.core.base.var._GeneralVarData'>)\n",
            "    No value for uninitialized NumericValue object x[hammer]\n",
            "ERROR: evaluating object as numeric value: obj\n",
            "        (object: <class 'pyomo.core.base.objective.SimpleObjective'>)\n",
            "    No value for uninitialized NumericValue object x[hammer]\n",
            "        Key : Active : Value\n",
            "        None :   None :  None\n",
            "\n",
            "  Constraints:\n",
            "    weight_con : Size=1\n",
            "ERROR: evaluating object as numeric value: x[hammer]\n",
            "        (object: <class 'pyomo.core.base.var._GeneralVarData'>)\n",
            "    No value for uninitialized NumericValue object x[hammer]\n",
            "        Key : Lower : Body : Upper\n",
            "        None :  None : None :  None\n",
            "GLPSOL: GLPK LP/MIP Solver, v4.65\n",
            "Parameter(s) specified in the command line:\n",
            " --write /tmp/tmpflxy6p1r.glpk.raw --wglp /tmp/tmpgmsx42xg.glpk.glp --cpxlp\n",
            " /tmp/tmpe79r5hmb.pyomo.lp\n",
            "Reading problem data from '/tmp/tmpe79r5hmb.pyomo.lp'...\n",
            "/tmp/tmpe79r5hmb.pyomo.lp:28: warning: lower bound of variable 'x1' redefined\n",
            "/tmp/tmpe79r5hmb.pyomo.lp:28: warning: upper bound of variable 'x1' redefined\n",
            "2 rows, 5 columns, 5 non-zeros\n",
            "4 integer variables, all of which are binary\n",
            "32 lines were read\n",
            "Writing problem data to '/tmp/tmpgmsx42xg.glpk.glp'...\n",
            "22 lines were written\n",
            "GLPK Integer Optimizer, v4.65\n",
            "2 rows, 5 columns, 5 non-zeros\n",
            "4 integer variables, all of which are binary\n",
            "Preprocessing...\n",
            "1 constraint coefficient(s) were reduced\n",
            "1 row, 4 columns, 4 non-zeros\n",
            "4 integer variables, all of which are binary\n",
            "Scaling...\n",
            " A: min|aij| =  3.000e+00  max|aij| =  5.000e+00  ratio =  1.667e+00\n",
            "Problem data seem to be well scaled\n",
            "Constructing initial basis...\n",
            "Size of triangular part is 1\n",
            "Solving LP relaxation...\n",
            "GLPK Simplex Optimizer, v4.65\n",
            "1 row, 4 columns, 4 non-zeros\n",
            "*     0: obj =  -0.000000000e+00 inf =   0.000e+00 (4)\n",
            "*     4: obj =   2.500000000e+01 inf =   0.000e+00 (0)\n",
            "OPTIMAL LP SOLUTION FOUND\n",
            "Integer optimization begins...\n",
            "Long-step dual simplex will be used\n",
            "+     4: mip =     not found yet <=              +inf        (1; 0)\n",
            "+     4: >>>>>   2.500000000e+01 <=   2.500000000e+01   0.0% (1; 0)\n",
            "+     4: mip =   2.500000000e+01 <=     tree is empty   0.0% (0; 1)\n",
            "INTEGER OPTIMAL SOLUTION FOUND\n",
            "Time used:   0.0 secs\n",
            "Memory used: 0.1 Mb (59918 bytes)\n",
            "Writing MIP solution to '/tmp/tmpflxy6p1r.glpk.raw'...\n",
            "16 lines were written\n"
          ],
          "name": "stdout"
        }
      ]
    },
    {
      "cell_type": "code",
      "metadata": {
        "colab": {
          "base_uri": "https://localhost:8080/"
        },
        "id": "R19leTAAkw5f",
        "outputId": "e8772903-f272-4121-8744-2982786ad7ef"
      },
      "source": [
        "for i in A:\r\n",
        "  print(\"Units of\", i, \"items =\", model.x[i]())\r\n",
        "print('The total value of items selected is', model.obj())\r\n",
        "total_weight = sum( w[i]*value(model.x[i]) for i in A )\r\n",
        "print('Total Weight of optimal solution', total_weight)"
      ],
      "execution_count": null,
      "outputs": [
        {
          "output_type": "stream",
          "text": [
            "Units of hammer items = 1.0\n",
            "Units of wrench items = 0.0\n",
            "Units of screwdriver items = 1.0\n",
            "Units of towel items = 1.0\n",
            "The total value of items selected is 25.0\n",
            "Total Weight of optimal solution 12.0\n"
          ],
          "name": "stdout"
        }
      ]
    },
    {
      "cell_type": "markdown",
      "metadata": {
        "nbpages": {
          "level": 3,
          "link": "[2.6.1.1 Knapsack example](https://ndcbe.github.io/CBE60499/02.06-Pyomo1.html#2.6.1.1-Knapsack-example)",
          "section": "2.6.1.1 Knapsack example"
        },
        "id": "rf6PcDmYKVsw"
      },
      "source": [
        "**Question Answers**\n",
        "\n",
        "1. From the solution, the items acquired in the optimal solution includes hammer, screwdriver, and towel\n",
        "\n",
        "2. We will need 1 hammer, 1 screwdriver and 1 towel and the total benefits values is 25 with optimal weight of 12"
      ]
    },
    {
      "cell_type": "markdown",
      "metadata": {
        "nbpages": {
          "level": 3,
          "link": "[2.6.1.2 Knapsack example with improve printing](https://ndcbe.github.io/CBE60499/02.06-Pyomo1.html#2.6.1.2-Knapsack-example-with-improve-printing)",
          "section": "2.6.1.2 Knapsack example with improve printing"
        },
        "id": "r7t0-6asKVsx"
      },
      "source": [
        "### 2.6.1.2 Knapsack example with improve printing\n",
        "\n",
        "Complete the missing lines in the code below to produce formatted output: print the total weight, the value of the items selected (the objective), and the items acquired in the optimal solution. Note, the Pyomo value function should be used to get the floating point value of Pyomo modeling components (e.g., print(value(model.x[i]))."
      ]
    },
    {
      "cell_type": "code",
      "metadata": {
        "nbpages": {
          "level": 3,
          "link": "[2.6.1.2 Knapsack example with improve printing](https://ndcbe.github.io/CBE60499/02.06-Pyomo1.html#2.6.1.2-Knapsack-example-with-improve-printing)",
          "section": "2.6.1.2 Knapsack example with improve printing"
        },
        "id": "WoUudStbKVsx",
        "colab": {
          "base_uri": "https://localhost:8080/"
        },
        "outputId": "1b1f982b-fbd8-4e88-b0f2-abd71e6de6ee"
      },
      "source": [
        "A = ['hammer', 'wrench', 'screwdriver', 'towel']\n",
        "b = {'hammer':8, 'wrench':3, 'screwdriver':6, 'towel':11}\n",
        "w = {'hammer':5, 'wrench':7, 'screwdriver':4, 'towel':3}\n",
        "W_max = 14\n",
        "\n",
        "model = ConcreteModel()\n",
        "model.x = Var( A, within=Binary )\n",
        "\n",
        "model.obj = Objective(\n",
        "    expr = sum( b[i]*model.x[i] for i in A ), \n",
        "    sense = maximize )\n",
        "\n",
        "model.weight_con = Constraint(\n",
        "    expr = sum( w[i]*model.x[i] for i in A ) <= W_max )\n",
        "\n",
        "opt = SolverFactory('glpk')\n",
        "opt_success = opt.solve(model)\n",
        "\n",
        "total_weight = sum( w[i]*value(model.x[i]) for i in A )\n",
        "# YOUR SOLUTION HERE\n",
        "print('Total Weight of optimal solution', total_weight)\n",
        "print('The total value of items selected is', model.obj())\n",
        "print('%12s %12s' % ('Item', 'Selected'))\n",
        "print('=========================')\n",
        "for i in A:\n",
        "    acquired = 'No'\n",
        "    if value(model.x[i]) >= 0.5:\n",
        "        acquired = 'Yes'\n",
        "    print('%12s %12s' % (i, acquired))\n",
        "print('-------------------------')"
      ],
      "execution_count": null,
      "outputs": [
        {
          "output_type": "stream",
          "text": [
            "Total Weight of optimal solution 12.0\n",
            "The total value of items selected is 25.0\n",
            "        Item     Selected\n",
            "=========================\n",
            "      hammer          Yes\n",
            "      wrench           No\n",
            " screwdriver          Yes\n",
            "       towel          Yes\n",
            "-------------------------\n"
          ],
          "name": "stdout"
        }
      ]
    },
    {
      "cell_type": "markdown",
      "metadata": {
        "nbpages": {
          "level": 3,
          "link": "[2.6.1.3 Changing data](https://ndcbe.github.io/CBE60499/02.06-Pyomo1.html#2.6.1.3-Changing-data)",
          "section": "2.6.1.3 Changing data"
        },
        "id": "BBW62BDoKVsy"
      },
      "source": [
        "### 2.6.1.3 Changing data\n",
        "\n",
        "Using your code from **Question 1.2**, if we were to increase the value of the wrench, at what point would it become selected as part of the optimal solution?"
      ]
    },
    {
      "cell_type": "code",
      "metadata": {
        "nbpages": {
          "level": 3,
          "link": "[2.6.1.3 Changing data](https://ndcbe.github.io/CBE60499/02.06-Pyomo1.html#2.6.1.3-Changing-data)",
          "section": "2.6.1.3 Changing data"
        },
        "id": "5biAlzdQKVsy",
        "colab": {
          "base_uri": "https://localhost:8080/"
        },
        "outputId": "d4cce89c-5da0-42bb-9a88-e9efb88533d6"
      },
      "source": [
        "# YOUR SOLUTION HERE\r\n",
        "A = ['hammer', 'wrench', 'screwdriver', 'towel']\r\n",
        "b = {'hammer':8, 'wrench':3, 'screwdriver':6, 'towel':11}\r\n",
        "w = {'hammer':5, 'wrench':7, 'screwdriver':4, 'towel':3}\r\n",
        "W_max = 14\r\n",
        "\r\n",
        "model = ConcreteModel()\r\n",
        "model.x = Var( A, within=Binary )\r\n",
        "\r\n",
        "model.obj = Objective(\r\n",
        "    expr = sum( b[i]*model.x[i] for i in A ), \r\n",
        "    sense = maximize )\r\n",
        "\r\n",
        "model.weight_con = Constraint(\r\n",
        "    expr = sum( w[i]*model.x[i] for i in A ) <= W_max )\r\n",
        "# For loop to increase the value of the wrench\r\n",
        "opt = SolverFactory('glpk')\r\n",
        "opt_success = opt.solve(model)\r\n",
        "\r\n",
        "while model.x[\"wrench\"]() == 0:\r\n",
        "  # Change value of benefits\r\n",
        "  b[\"wrench\"] += 1\r\n",
        "  # Update model.obj:\r\n",
        "  model.obj = Objective(\r\n",
        "    expr = sum( b[i]*model.x[i] for i in A ), \r\n",
        "    sense = maximize )\r\n",
        "  # Call solver\r\n",
        "  opt = SolverFactory('glpk')\r\n",
        "  opt_success = opt.solve(model)\r\n",
        "  if model.x['wrench']() != 0:\r\n",
        "    print('\\nThe value of benefits for wrench to be selected in the optimal sol is', b[\"wrench\"])\r\n",
        "\r\n",
        "# Print all solutions\r\n",
        "for i in A:\r\n",
        "  if model.x[i] != 0:\r\n",
        "    print('Items selected is', i, 'and its value is', model.x[i]())\r\n",
        "total_weight = sum( w[i]*value(model.x[i]) for i in A )\r\n",
        "print('Total Weight:', total_weight)\r\n",
        "print('Total Benefit:', value(model.obj))"
      ],
      "execution_count": null,
      "outputs": [
        {
          "output_type": "stream",
          "text": [
            "WARNING: Implicitly replacing the Component attribute obj (type=<class\n",
            "    'pyomo.core.base.objective.SimpleObjective'>) on block unknown with a new\n",
            "    Component (type=<class 'pyomo.core.base.objective.SimpleObjective'>). This\n",
            "    is usually indicative of a modelling error. To avoid this warning, use\n",
            "    block.del_component() and block.add_component().\n",
            "WARNING: Implicitly replacing the Component attribute obj (type=<class\n",
            "    'pyomo.core.base.objective.SimpleObjective'>) on block unknown with a new\n",
            "    Component (type=<class 'pyomo.core.base.objective.SimpleObjective'>). This\n",
            "    is usually indicative of a modelling error. To avoid this warning, use\n",
            "    block.del_component() and block.add_component().\n",
            "WARNING: Implicitly replacing the Component attribute obj (type=<class\n",
            "    'pyomo.core.base.objective.SimpleObjective'>) on block unknown with a new\n",
            "    Component (type=<class 'pyomo.core.base.objective.SimpleObjective'>). This\n",
            "    is usually indicative of a modelling error. To avoid this warning, use\n",
            "    block.del_component() and block.add_component().\n",
            "WARNING: Implicitly replacing the Component attribute obj (type=<class\n",
            "    'pyomo.core.base.objective.SimpleObjective'>) on block unknown with a new\n",
            "    Component (type=<class 'pyomo.core.base.objective.SimpleObjective'>). This\n",
            "    is usually indicative of a modelling error. To avoid this warning, use\n",
            "    block.del_component() and block.add_component().\n",
            "WARNING: Implicitly replacing the Component attribute obj (type=<class\n",
            "    'pyomo.core.base.objective.SimpleObjective'>) on block unknown with a new\n",
            "    Component (type=<class 'pyomo.core.base.objective.SimpleObjective'>). This\n",
            "    is usually indicative of a modelling error. To avoid this warning, use\n",
            "    block.del_component() and block.add_component().\n",
            "\n",
            "The value of benefits for wrench to be selected in the optimal sol is 8\n",
            "Items selected is wrench and its value is 1.0\n",
            "Items selected is screwdriver and its value is 1.0\n",
            "Items selected is towel and its value is 1.0\n",
            "Total Weight: 14.0\n",
            "Total Benefit: 25.0\n"
          ],
          "name": "stdout"
        }
      ]
    },
    {
      "cell_type": "markdown",
      "metadata": {
        "nbpages": {
          "level": 3,
          "link": "[2.6.1.3 Changing data](https://ndcbe.github.io/CBE60499/02.06-Pyomo1.html#2.6.1.3-Changing-data)",
          "section": "2.6.1.3 Changing data"
        },
        "id": "JnAMTYq1KVsy"
      },
      "source": [
        "**Question Answer**\n",
        "\n",
        "From the analysis, it can be seen that if benefits of wrench increases to 8, then it will be selected to be in the optimal solution. This basically replaces the selection of hammer which also has benefit of 8; the only difference here is the total weight by replacing hammer with wrench is higher with a value of 14 instead of 12."
      ]
    },
    {
      "cell_type": "markdown",
      "metadata": {
        "nbpages": {
          "level": 3,
          "link": "[2.6.1.4 Loading data from Excel](https://ndcbe.github.io/CBE60499/02.06-Pyomo1.html#2.6.1.4-Loading-data-from-Excel)",
          "section": "2.6.1.4 Loading data from Excel"
        },
        "id": "dAnWfxePKVsy"
      },
      "source": [
        "### 2.6.1.4 Loading data from Excel\n",
        "\n",
        "In the code above, the data is hardcoded at the top of the file. Instead of hardcoding the data, use Python to load the data from a difference source. You may use Pandas to load data from 'knapsack_data.xlsx' into a dataframe. You will then need to write code to obtain a dictionary from the dataframe."
      ]
    },
    {
      "cell_type": "code",
      "metadata": {
        "nbpages": {
          "level": 3,
          "link": "[2.6.1.4 Loading data from Excel](https://ndcbe.github.io/CBE60499/02.06-Pyomo1.html#2.6.1.4-Loading-data-from-Excel)",
          "section": "2.6.1.4 Loading data from Excel"
        },
        "id": "nsZe9-RBKVsz",
        "colab": {
          "base_uri": "https://localhost:8080/"
        },
        "outputId": "3e9c66cc-daef-49a9-9901-3848894b3acd"
      },
      "source": [
        "df_items = pd.read_excel('./data/knapsack_data.xlsx', sheet_name='data', header=0, index_col=0)\n",
        "W_max = 14\n",
        "#print(df_items.head())\n",
        "A = df_items.index.tolist() # This will allow the index (e.g hammer) to be extracted\n",
        "benefits = df_items.columns.to_list()[0] # Convert the first column values\n",
        "weight = df_items.columns.to_list()[1] # Convert the second column values\n",
        "b = df_items[benefits].to_dict() # Convert this to dictionary with key and value\n",
        "w = df_items[weight].to_dict()\n",
        "\n",
        "model = ConcreteModel()\n",
        "model.x = Var( A, within=Binary )\n",
        "\n",
        "model.obj = Objective(\n",
        "    expr = sum( b[i]*model.x[i] for i in A ), \n",
        "    sense = maximize )\n",
        "\n",
        "model.weight_con = Constraint(\n",
        "    expr = sum( w[i]*model.x[i] for i in A ) <= W_max )\n",
        "\n",
        "opt = SolverFactory('glpk')\n",
        "opt_success = opt.solve(model)\n",
        "\n",
        "total_weight = sum( w[i]*value(model.x[i]) for i in A )\n",
        "print('Total Weight:', total_weight)\n",
        "print('Total Benefit:', value(model.obj))\n",
        "\n",
        "print('%12s %12s' % ('Item', 'Selected'))\n",
        "print('=========================')\n",
        "for i in A:\n",
        "    acquired = 'No'\n",
        "    if value(model.x[i]) >= 0.5:\n",
        "        acquired = 'Yes'\n",
        "    print('%12s %12s' % (i, acquired))\n",
        "print('-------------------------')"
      ],
      "execution_count": null,
      "outputs": [
        {
          "output_type": "stream",
          "text": [
            "Total Weight: 12.0\n",
            "Total Benefit: 25.0\n",
            "        Item     Selected\n",
            "=========================\n",
            "      hammer          Yes\n",
            "      wrench           No\n",
            " screwdriver          Yes\n",
            "       towel          Yes\n",
            "-------------------------\n"
          ],
          "name": "stdout"
        }
      ]
    },
    {
      "cell_type": "markdown",
      "metadata": {
        "nbpages": {
          "level": 3,
          "link": "[2.6.1.5 NLP vs. MIP](https://ndcbe.github.io/CBE60499/02.06-Pyomo1.html#2.6.1.5-NLP-vs.-MIP)",
          "section": "2.6.1.5 NLP vs. MIP"
        },
        "id": "na9HSYxQKVsz"
      },
      "source": [
        "### 2.6.1.5 NLP vs. MIP\n",
        "\n",
        "Solve the knapsack problem with IPOPT instead of glpk. Print the solution values for model.x. What happened? Why?\n",
        "\n",
        "*Hint*: Switch `glpk` to `ipopt` in the call to `SolverFactory`."
      ]
    },
    {
      "cell_type": "code",
      "metadata": {
        "nbpages": {
          "level": 3,
          "link": "[2.6.1.5 NLP vs. MIP](https://ndcbe.github.io/CBE60499/02.06-Pyomo1.html#2.6.1.5-NLP-vs.-MIP)",
          "section": "2.6.1.5 NLP vs. MIP"
        },
        "id": "SEoi2btKKVsz",
        "colab": {
          "base_uri": "https://localhost:8080/"
        },
        "outputId": "2da596b7-3858-4a41-c5b6-e8d70501cb86"
      },
      "source": [
        "from pyomo.environ import *\n",
        "\n",
        "A = ['hammer', 'wrench', 'screwdriver', 'towel']\n",
        "b = {'hammer':8, 'wrench':3, 'screwdriver':6, 'towel':11}\n",
        "w = {'hammer':5, 'wrench':7, 'screwdriver':4, 'towel':3}\n",
        "W_max = 14\n",
        "\n",
        "model = ConcreteModel()\n",
        "model.x = Var( A, within=Binary )\n",
        "\n",
        "model.obj = Objective(\n",
        "    expr = sum( b[i]*model.x[i] for i in A ), \n",
        "    sense = maximize )\n",
        "\n",
        "model.weight_con = Constraint(\n",
        "    expr = sum( w[i]*model.x[i] for i in A ) <= W_max )\n",
        "\n",
        "model.pprint()\n",
        "# YOUR SOLUTION HERE\n",
        "opt = SolverFactory('ipopt')\n",
        "opt_success = opt.solve(model, tee=True)\n",
        "\n",
        "print(\"\\n\")\n",
        "for i in A:\n",
        "    if value(model.x[i]) >= 0.5:\n",
        "      print(model.x[i](), i, 'selected')\n",
        "print('-------------------------')"
      ],
      "execution_count": null,
      "outputs": [
        {
          "output_type": "stream",
          "text": [
            "1 Set Declarations\n",
            "    x_index : Size=1, Index=None, Ordered=Insertion\n",
            "        Key  : Dimen : Domain : Size : Members\n",
            "        None :     1 :    Any :    4 : {'hammer', 'wrench', 'screwdriver', 'towel'}\n",
            "\n",
            "1 Var Declarations\n",
            "    x : Size=4, Index=x_index\n",
            "        Key         : Lower : Value : Upper : Fixed : Stale : Domain\n",
            "             hammer :     0 :  None :     1 : False :  True : Binary\n",
            "        screwdriver :     0 :  None :     1 : False :  True : Binary\n",
            "              towel :     0 :  None :     1 : False :  True : Binary\n",
            "             wrench :     0 :  None :     1 : False :  True : Binary\n",
            "\n",
            "1 Objective Declarations\n",
            "    obj : Size=1, Index=None, Active=True\n",
            "        Key  : Active : Sense    : Expression\n",
            "        None :   True : maximize : 8*x[hammer] + 3*x[wrench] + 6*x[screwdriver] + 11*x[towel]\n",
            "\n",
            "1 Constraint Declarations\n",
            "    weight_con : Size=1, Index=None, Active=True\n",
            "        Key  : Lower : Body                                                      : Upper : Active\n",
            "        None :  -Inf : 5*x[hammer] + 7*x[wrench] + 4*x[screwdriver] + 3*x[towel] :  14.0 :   True\n",
            "\n",
            "4 Declarations: x_index x obj weight_con\n",
            "Ipopt 3.13.2: \n",
            "==> Warning: Treating 4 binary and 0 integer variables as continous.\n",
            "\n",
            "\n",
            "******************************************************************************\n",
            "This program contains Ipopt, a library for large-scale nonlinear optimization.\n",
            " Ipopt is released as open source code under the Eclipse Public License (EPL).\n",
            "         For more information visit http://projects.coin-or.org/Ipopt\n",
            "\n",
            "This version of Ipopt was compiled from source code available at\n",
            "    https://github.com/IDAES/Ipopt as part of the Institute for the Design of\n",
            "    Advanced Energy Systems Process Systems Engineering Framework (IDAES PSE\n",
            "    Framework) Copyright (c) 2018-2019. See https://github.com/IDAES/idaes-pse.\n",
            "\n",
            "This version of Ipopt was compiled using HSL, a collection of Fortran codes\n",
            "    for large-scale scientific computation.  All technical papers, sales and\n",
            "    publicity material resulting from use of the HSL codes within IPOPT must\n",
            "    contain the following acknowledgement:\n",
            "        HSL, a collection of Fortran codes for large-scale scientific\n",
            "        computation. See http://www.hsl.rl.ac.uk.\n",
            "******************************************************************************\n",
            "\n",
            "This is Ipopt version 3.13.2, running with linear solver ma27.\n",
            "\n",
            "Number of nonzeros in equality constraint Jacobian...:        0\n",
            "Number of nonzeros in inequality constraint Jacobian.:        4\n",
            "Number of nonzeros in Lagrangian Hessian.............:        0\n",
            "\n",
            "Total number of variables............................:        4\n",
            "                     variables with only lower bounds:        0\n",
            "                variables with lower and upper bounds:        4\n",
            "                     variables with only upper bounds:        0\n",
            "Total number of equality constraints.................:        0\n",
            "Total number of inequality constraints...............:        1\n",
            "        inequality constraints with only lower bounds:        0\n",
            "   inequality constraints with lower and upper bounds:        0\n",
            "        inequality constraints with only upper bounds:        1\n",
            "\n",
            "iter    objective    inf_pr   inf_du lg(mu)  ||d||  lg(rg) alpha_du alpha_pr  ls\n",
            "   0 -2.7999972e-01 0.00e+00 7.43e+00  -1.0 0.00e+00    -  0.00e+00 0.00e+00   0\n",
            "   1 -5.0537611e+00 0.00e+00 9.44e+00  -1.0 2.82e+00    -  8.95e-02 1.00e+00f  1\n",
            "   2 -1.4141667e+01 0.00e+00 6.47e+00  -1.0 1.60e+01    -  4.20e-01 1.33e-01f  1\n",
            "   3 -2.1757239e+01 0.00e+00 3.11e+00  -1.0 1.02e+01    -  5.54e-01 4.75e-01f  1\n",
            "   4 -2.4586629e+01 0.00e+00 1.25e+00  -1.0 3.78e+00    -  1.00e+00 5.03e-01f  1\n",
            "   5 -2.4687627e+01 0.00e+00 2.51e+00  -1.0 3.23e-01    -  7.91e-01 2.70e-01f  2\n",
            "   6 -2.5509968e+01 0.00e+00 1.53e-01  -1.0 3.75e+00    -  1.00e+00 5.36e-01f  1\n",
            "   7 -2.5815422e+01 0.00e+00 3.32e-01  -1.7 3.94e-02    -  1.00e+00 8.51e-01f  1\n",
            "   8 -2.5776311e+01 0.00e+00 2.00e-07  -1.7 1.37e-02    -  1.00e+00 1.00e+00f  1\n",
            "   9 -2.5856332e+01 0.00e+00 1.50e-09  -3.8 4.35e-02    -  1.00e+00 1.00e+00f  1\n",
            "iter    objective    inf_pr   inf_du lg(mu)  ||d||  lg(rg) alpha_du alpha_pr  ls\n",
            "  10 -2.5857136e+01 0.00e+00 1.84e-11  -5.7 9.01e-04    -  1.00e+00 1.00e+00f  1\n",
            "  11 -2.5857143e+01 0.00e+00 2.51e-14  -8.6 4.39e-06    -  1.00e+00 1.00e+00f  1\n",
            "\n",
            "Number of Iterations....: 11\n",
            "\n",
            "                                   (scaled)                 (unscaled)\n",
            "Objective...............:  -2.5857143105688674e+01   -2.5857143105688674e+01\n",
            "Dual infeasibility......:   2.5091040356528538e-14    2.5091040356528538e-14\n",
            "Constraint violation....:   0.0000000000000000e+00    0.0000000000000000e+00\n",
            "Complementarity.........:   2.5082145928050852e-09    2.5082145928050852e-09\n",
            "Overall NLP error.......:   2.5082145928050852e-09    2.5082145928050852e-09\n",
            "\n",
            "\n",
            "Number of objective function evaluations             = 16\n",
            "Number of objective gradient evaluations             = 12\n",
            "Number of equality constraint evaluations            = 0\n",
            "Number of inequality constraint evaluations          = 16\n",
            "Number of equality constraint Jacobian evaluations   = 0\n",
            "Number of inequality constraint Jacobian evaluations = 12\n",
            "Number of Lagrangian Hessian evaluations             = 11\n",
            "Total CPU secs in IPOPT (w/o function evaluations)   =      0.004\n",
            "Total CPU secs in NLP function evaluations           =      0.000\n",
            "\n",
            "EXIT: Optimal Solution Found.\n",
            "\b\b\b\b\b\b\b\b\b\b\b\b\b\b\n",
            "\n",
            "1.0 hammer selected\n",
            "1.0 screwdriver selected\n",
            "1.0 towel selected\n",
            "-------------------------\n"
          ],
          "name": "stdout"
        }
      ]
    },
    {
      "cell_type": "markdown",
      "metadata": {
        "nbpages": {
          "level": 3,
          "link": "[2.6.1.5 NLP vs. MIP](https://ndcbe.github.io/CBE60499/02.06-Pyomo1.html#2.6.1.5-NLP-vs.-MIP)",
          "section": "2.6.1.5 NLP vs. MIP"
        },
        "id": "_5xPUgUrKVs0"
      },
      "source": [
        "**Question Answers**\n",
        "The same optimal solution is obtained, with 1 hammer, 1 screwdriver, and 1 towel are selected in the optimal solution. This is consistent with the solution produced by **glpk** and makes sense."
      ]
    },
    {
      "cell_type": "markdown",
      "metadata": {
        "nbpages": {
          "level": 2,
          "link": "[2.6.2 More Pyomo Fundamentals](https://ndcbe.github.io/CBE60499/02.06-Pyomo1.html#2.6.2-More-Pyomo-Fundamentals)",
          "section": "2.6.2 More Pyomo Fundamentals"
        },
        "id": "ZMmR4L6pKVs1"
      },
      "source": [
        "## 2.6.2 More Pyomo Fundamentals"
      ]
    },
    {
      "cell_type": "markdown",
      "metadata": {
        "nbpages": {
          "level": 3,
          "link": "[2.6.2.1 Knapsack problem with rules](https://ndcbe.github.io/CBE60499/02.06-Pyomo1.html#2.6.2.1-Knapsack-problem-with-rules)",
          "section": "2.6.2.1 Knapsack problem with rules"
        },
        "id": "-8445gLFKVs1"
      },
      "source": [
        "### 2.6.2.1 Knapsack problem with rules\n",
        "\n",
        "Rules are important for defining in-dexed constraints, however, they can also be used for single (i.e. scalar) constraints. Reimplement the knapsack model from **Question 1.1** using rules for the objective and the constraints."
      ]
    },
    {
      "cell_type": "code",
      "metadata": {
        "nbpages": {
          "level": 3,
          "link": "[2.6.2.1 Knapsack problem with rules](https://ndcbe.github.io/CBE60499/02.06-Pyomo1.html#2.6.2.1-Knapsack-problem-with-rules)",
          "section": "2.6.2.1 Knapsack problem with rules"
        },
        "id": "J0mmR0bKKVs1",
        "colab": {
          "base_uri": "https://localhost:8080/"
        },
        "outputId": "cc579512-b235-4511-a1ee-e50936dea8b0"
      },
      "source": [
        "# YOUR SOLUTION HERE\r\n",
        "A = ['hammer', 'wrench', 'screwdriver', 'towel']\r\n",
        "b = {'hammer':8, 'wrench':3, 'screwdriver':6, 'towel':11}\r\n",
        "w = {'hammer':5, 'wrench':7, 'screwdriver':4, 'towel':3}\r\n",
        "W_max = 14 # Weight max\r\n",
        "\r\n",
        "model = ConcreteModel()\r\n",
        "model.x = Var( A, within=Binary )\r\n",
        "\r\n",
        "\r\n",
        "# Define objectives\r\n",
        "def benefits_rules(model):\r\n",
        "  return sum(b[i]*model.x[i] for i in A )\r\n",
        "model.obj = Objective(expr = benefits_rules(model),sense = maximize )\r\n",
        "\r\n",
        "# Define constraints\r\n",
        "def weight_rule(model):\r\n",
        "  return sum(w[i]*model.x[i] for i in A) <= W_max # this is a shorter way to write a for loop\r\n",
        "model.weight_con = Constraint(A, rule= weight_rule)\r\n",
        "\r\n",
        "model.display()\r\n",
        "\r\n",
        "# Solver\r\n",
        "solver = SolverFactory('glpk')\r\n",
        "results = solver.solve(model, tee= True)\r\n",
        "\r\n",
        "# Print\r\n",
        "print('%12s %12s' % ('Item', 'Selected'))\r\n",
        "print('=========================')\r\n",
        "for i in A:\r\n",
        "    acquired = 'No'\r\n",
        "    if value(model.x[i]) >= 0.5:\r\n",
        "        acquired = 'Yes'\r\n",
        "    print('%12s %12s' % (i, acquired))\r\n",
        "print('-------------------------')"
      ],
      "execution_count": null,
      "outputs": [
        {
          "output_type": "stream",
          "text": [
            "Model unknown\n",
            "\n",
            "  Variables:\n",
            "    x : Size=4, Index=x_index\n",
            "        Key         : Lower : Value : Upper : Fixed : Stale : Domain\n",
            "             hammer :     0 :  None :     1 : False :  True : Binary\n",
            "        screwdriver :     0 :  None :     1 : False :  True : Binary\n",
            "              towel :     0 :  None :     1 : False :  True : Binary\n",
            "             wrench :     0 :  None :     1 : False :  True : Binary\n",
            "\n",
            "  Objectives:\n",
            "    obj : Size=1, Index=None, Active=True\n",
            "ERROR: evaluating object as numeric value: x[hammer]\n",
            "        (object: <class 'pyomo.core.base.var._GeneralVarData'>)\n",
            "    No value for uninitialized NumericValue object x[hammer]\n",
            "ERROR: evaluating object as numeric value: obj\n",
            "        (object: <class 'pyomo.core.base.objective.SimpleObjective'>)\n",
            "    No value for uninitialized NumericValue object x[hammer]\n",
            "        Key : Active : Value\n",
            "        None :   None :  None\n",
            "\n",
            "  Constraints:\n",
            "    weight_con : Size=4\n",
            "ERROR: evaluating object as numeric value: x[hammer]\n",
            "        (object: <class 'pyomo.core.base.var._GeneralVarData'>)\n",
            "    No value for uninitialized NumericValue object x[hammer]\n",
            "ERROR: evaluating object as numeric value: x[hammer]\n",
            "        (object: <class 'pyomo.core.base.var._GeneralVarData'>)\n",
            "    No value for uninitialized NumericValue object x[hammer]\n",
            "ERROR: evaluating object as numeric value: x[hammer]\n",
            "        (object: <class 'pyomo.core.base.var._GeneralVarData'>)\n",
            "    No value for uninitialized NumericValue object x[hammer]\n",
            "ERROR: evaluating object as numeric value: x[hammer]\n",
            "        (object: <class 'pyomo.core.base.var._GeneralVarData'>)\n",
            "    No value for uninitialized NumericValue object x[hammer]\n",
            "        Key : Lower : Body : Upper\n",
            "        hammer :  None : None :  None\n",
            "        screwdriver :  None : None :  None\n",
            "        towel :  None : None :  None\n",
            "        wrench :  None : None :  None\n",
            "GLPSOL: GLPK LP/MIP Solver, v4.65\n",
            "Parameter(s) specified in the command line:\n",
            " --write /tmp/tmp0udizeyc.glpk.raw --wglp /tmp/tmp35nwr72l.glpk.glp --cpxlp\n",
            " /tmp/tmpd87_f3bh.pyomo.lp\n",
            "Reading problem data from '/tmp/tmpd87_f3bh.pyomo.lp'...\n",
            "/tmp/tmpd87_f3bh.pyomo.lp:49: warning: lower bound of variable 'x1' redefined\n",
            "/tmp/tmpd87_f3bh.pyomo.lp:49: warning: upper bound of variable 'x1' redefined\n",
            "5 rows, 5 columns, 17 non-zeros\n",
            "4 integer variables, all of which are binary\n",
            "53 lines were read\n",
            "Writing problem data to '/tmp/tmp35nwr72l.glpk.glp'...\n",
            "40 lines were written\n",
            "GLPK Integer Optimizer, v4.65\n",
            "5 rows, 5 columns, 17 non-zeros\n",
            "4 integer variables, all of which are binary\n",
            "Preprocessing...\n",
            "4 constraint coefficient(s) were reduced\n",
            "4 rows, 4 columns, 16 non-zeros\n",
            "4 integer variables, all of which are binary\n",
            "Scaling...\n",
            " A: min|aij| =  3.000e+00  max|aij| =  5.000e+00  ratio =  1.667e+00\n",
            "Problem data seem to be well scaled\n",
            "Constructing initial basis...\n",
            "Size of triangular part is 4\n",
            "Solving LP relaxation...\n",
            "GLPK Simplex Optimizer, v4.65\n",
            "4 rows, 4 columns, 16 non-zeros\n",
            "*     0: obj =  -0.000000000e+00 inf =   0.000e+00 (4)\n",
            "*     4: obj =   2.500000000e+01 inf =   0.000e+00 (0)\n",
            "OPTIMAL LP SOLUTION FOUND\n",
            "Integer optimization begins...\n",
            "Long-step dual simplex will be used\n",
            "+     4: mip =     not found yet <=              +inf        (1; 0)\n",
            "+     4: >>>>>   2.500000000e+01 <=   2.500000000e+01   0.0% (1; 0)\n",
            "+     4: mip =   2.500000000e+01 <=     tree is empty   0.0% (0; 1)\n",
            "INTEGER OPTIMAL SOLUTION FOUND\n",
            "Time used:   0.0 secs\n",
            "Memory used: 0.1 Mb (61682 bytes)\n",
            "Writing MIP solution to '/tmp/tmp0udizeyc.glpk.raw'...\n",
            "19 lines were written\n",
            "        Item     Selected\n",
            "=========================\n",
            "      hammer          Yes\n",
            "      wrench           No\n",
            " screwdriver          Yes\n",
            "       towel          Yes\n",
            "-------------------------\n"
          ],
          "name": "stdout"
        }
      ]
    },
    {
      "cell_type": "markdown",
      "metadata": {
        "nbpages": {
          "level": 3,
          "link": "[2.6.2.2 Integer formulation of the knapsack problem](https://ndcbe.github.io/CBE60499/02.06-Pyomo1.html#2.6.2.2-Integer-formulation-of-the-knapsack-problem)",
          "section": "2.6.2.2 Integer formulation of the knapsack problem"
        },
        "id": "gly63LBaKVs1"
      },
      "source": [
        "### 2.6.2.2 Integer formulation of the knapsack problem\n",
        "\n",
        "Consider again the knapsack problem. Assume now that we can acquire multiple items of the same type. In this new formulation, $x_i$ is now an integer variable instead of a binary variable. One way to formulate this problem is as follows:\n",
        "\n",
        "\n",
        "$\\max_{q,x} \\sum_{i\\in{A}}v_ix_i$\n",
        "\n",
        "s.t. $\\sum_{i\\in{A}}w_ix_i\\leq W_{max}$\n",
        "\n",
        "$x_i=\\sum_{j=0}^Njq_{i,j}, \\forall i \\in{A}$\n",
        "\n",
        "$0\\leq x\\leq N$\n",
        "\n",
        "$q_{i,j} \\in {0,1}, \\forall i \\in A, j \\in {0...N}$\n",
        "\n",
        "Starting with your code from **Question 2.1**, implement this new formulation and solve. Is the solution surprising?"
      ]
    },
    {
      "cell_type": "code",
      "metadata": {
        "nbpages": {
          "level": 3,
          "link": "[2.6.2.2 Integer formulation of the knapsack problem](https://ndcbe.github.io/CBE60499/02.06-Pyomo1.html#2.6.2.2-Integer-formulation-of-the-knapsack-problem)",
          "section": "2.6.2.2 Integer formulation of the knapsack problem"
        },
        "id": "ctsPBQ2DKVs2",
        "colab": {
          "base_uri": "https://localhost:8080/"
        },
        "outputId": "6220b160-f927-485a-d4bd-053ea098dcb6"
      },
      "source": [
        "# YOUR SOLUTION HERE\r\n",
        "# YOUR SOLUTION HERE\r\n",
        "A = ['hammer', 'wrench', 'screwdriver', 'towel']\r\n",
        "b = {'hammer':8, 'wrench':3, 'screwdriver':6, 'towel':11}\r\n",
        "w = {'hammer':5, 'wrench':7, 'screwdriver':4, 'towel':3}\r\n",
        "W_max = 14 # Weight max\r\n",
        "\r\n",
        "model = ConcreteModel()\r\n",
        "N = 5\r\n",
        "model.x = Var(A, within = Integers, bounds=(0,N)) # Update xi to be positive integers\r\n",
        "\r\n",
        "\r\n",
        "# Define objectives\r\n",
        "def benefits_rules(model):\r\n",
        "  return sum(b[i]*model.x[i] for i in A )\r\n",
        "model.obj = Objective(expr = benefits_rules(model),sense = maximize )\r\n",
        "\r\n",
        "# Define constraints\r\n",
        "def weight_rule(model):\r\n",
        "  return sum(w[i]*model.x[i] for i in A) <= W_max # this is a shorter way to write a for loop\r\n",
        "model.weight_con = Constraint(A, rule= weight_rule)\r\n",
        "\r\n",
        "model.display()\r\n",
        "\r\n",
        "# Solver\r\n",
        "solver = SolverFactory('glpk')\r\n",
        "results = solver.solve(model, tee= True)\r\n",
        "\r\n",
        "# Print\r\n",
        "print('%12s %12s' % ('Item', 'Selected'))\r\n",
        "print('=========================')\r\n",
        "for i in A:\r\n",
        "  if model.x[i]() != 0:\r\n",
        "    print('Items selected is', i, 'and its value is', model.x[i]())\r\n",
        "\r\n",
        "print('Total Benefit:', value(model.obj))"
      ],
      "execution_count": null,
      "outputs": [
        {
          "output_type": "stream",
          "text": [
            "Model unknown\n",
            "\n",
            "  Variables:\n",
            "    x : Size=4, Index=x_index\n",
            "        Key         : Lower : Value : Upper : Fixed : Stale : Domain\n",
            "             hammer :     0 :  None :     5 : False :  True : Integers\n",
            "        screwdriver :     0 :  None :     5 : False :  True : Integers\n",
            "              towel :     0 :  None :     5 : False :  True : Integers\n",
            "             wrench :     0 :  None :     5 : False :  True : Integers\n",
            "\n",
            "  Objectives:\n",
            "    obj : Size=1, Index=None, Active=True\n",
            "ERROR: evaluating object as numeric value: x[hammer]\n",
            "        (object: <class 'pyomo.core.base.var._GeneralVarData'>)\n",
            "    No value for uninitialized NumericValue object x[hammer]\n",
            "ERROR: evaluating object as numeric value: obj\n",
            "        (object: <class 'pyomo.core.base.objective.SimpleObjective'>)\n",
            "    No value for uninitialized NumericValue object x[hammer]\n",
            "        Key : Active : Value\n",
            "        None :   None :  None\n",
            "\n",
            "  Constraints:\n",
            "    weight_con : Size=4\n",
            "ERROR: evaluating object as numeric value: x[hammer]\n",
            "        (object: <class 'pyomo.core.base.var._GeneralVarData'>)\n",
            "    No value for uninitialized NumericValue object x[hammer]\n",
            "ERROR: evaluating object as numeric value: x[hammer]\n",
            "        (object: <class 'pyomo.core.base.var._GeneralVarData'>)\n",
            "    No value for uninitialized NumericValue object x[hammer]\n",
            "ERROR: evaluating object as numeric value: x[hammer]\n",
            "        (object: <class 'pyomo.core.base.var._GeneralVarData'>)\n",
            "    No value for uninitialized NumericValue object x[hammer]\n",
            "ERROR: evaluating object as numeric value: x[hammer]\n",
            "        (object: <class 'pyomo.core.base.var._GeneralVarData'>)\n",
            "    No value for uninitialized NumericValue object x[hammer]\n",
            "        Key : Lower : Body : Upper\n",
            "        hammer :  None : None :  None\n",
            "        screwdriver :  None : None :  None\n",
            "        towel :  None : None :  None\n",
            "        wrench :  None : None :  None\n",
            "GLPSOL: GLPK LP/MIP Solver, v4.65\n",
            "Parameter(s) specified in the command line:\n",
            " --write /tmp/tmpjb9v29o6.glpk.raw --wglp /tmp/tmpal1e79p4.glpk.glp --cpxlp\n",
            " /tmp/tmp_axmtrio.pyomo.lp\n",
            "Reading problem data from '/tmp/tmp_axmtrio.pyomo.lp'...\n",
            "5 rows, 5 columns, 17 non-zeros\n",
            "4 integer variables, none of which are binary\n",
            "53 lines were read\n",
            "Writing problem data to '/tmp/tmpal1e79p4.glpk.glp'...\n",
            "44 lines were written\n",
            "GLPK Integer Optimizer, v4.65\n",
            "5 rows, 5 columns, 17 non-zeros\n",
            "4 integer variables, none of which are binary\n",
            "Preprocessing...\n",
            "4 rows, 4 columns, 16 non-zeros\n",
            "4 integer variables, none of which are binary\n",
            "Scaling...\n",
            " A: min|aij| =  3.000e+00  max|aij| =  7.000e+00  ratio =  2.333e+00\n",
            "Problem data seem to be well scaled\n",
            "Constructing initial basis...\n",
            "Size of triangular part is 4\n",
            "Solving LP relaxation...\n",
            "GLPK Simplex Optimizer, v4.65\n",
            "4 rows, 4 columns, 16 non-zeros\n",
            "*     0: obj =  -0.000000000e+00 inf =   0.000e+00 (4)\n",
            "*     2: obj =   4.720000000e+01 inf =   0.000e+00 (0)\n",
            "OPTIMAL LP SOLUTION FOUND\n",
            "Integer optimization begins...\n",
            "Long-step dual simplex will be used\n",
            "+     2: mip =     not found yet <=              +inf        (1; 0)\n",
            "Solution found by heuristic: 44\n",
            "+     3: mip =   4.400000000e+01 <=     tree is empty   0.0% (0; 1)\n",
            "INTEGER OPTIMAL SOLUTION FOUND\n",
            "Time used:   0.0 secs\n",
            "Memory used: 0.1 Mb (61762 bytes)\n",
            "Writing MIP solution to '/tmp/tmpjb9v29o6.glpk.raw'...\n",
            "19 lines were written\n",
            "        Item     Selected\n",
            "=========================\n",
            "Items selected is towel and its value is 4.0\n",
            "Total Benefit: 44.0\n"
          ],
          "name": "stdout"
        }
      ]
    },
    {
      "cell_type": "markdown",
      "metadata": {
        "nbpages": {
          "level": 3,
          "link": "[2.6.2.2 Integer formulation of the knapsack problem](https://ndcbe.github.io/CBE60499/02.06-Pyomo1.html#2.6.2.2-Integer-formulation-of-the-knapsack-problem)",
          "section": "2.6.2.2 Integer formulation of the knapsack problem"
        },
        "id": "F-a3w4jWKVs2"
      },
      "source": [
        "**Question Answer**\n",
        "\n",
        "With the new conditions where x (number of items) is integer instead of binary and is bounded between 0 and N, new solutions with different number of items selected are produced. \n",
        "\n",
        "In the case of N equals to 1, which is similar to previous analysis, the maximum benefit is 25. If one set N equals to 2, the solver selects the combination of 2 screwdriver and 2 towels, giving the max benefit of 34. If one set N equals to 3, the solver selects the combination of 1 hammer and 3 towels, giving the max benefit to be 41. For N equals to 4, the solver returns 4 towels being selected and the maximum benefits is 44. Once N is larger than 4, the solver still returns 4 towels with maximum benefits of 44. This suggests that 44 is the maximum benefits can be achieved by any bound N of x items being selected.\n",
        "\n",
        "In addition, one can see that the solution is not surprising, considering the fact that the benefit of towels is the highest while it has the lowest weight. It makes sense that as one can increase the number of items being selected up, selecting more towels would be in the optimal solution."
      ]
    },
    {
      "cell_type": "code",
      "metadata": {
        "nbpages": {
          "level": 3,
          "link": "[2.6.2.2 Integer formulation of the knapsack problem](https://ndcbe.github.io/CBE60499/02.06-Pyomo1.html#2.6.2.2-Integer-formulation-of-the-knapsack-problem)",
          "section": "2.6.2.2 Integer formulation of the knapsack problem"
        },
        "id": "OJgCQ2MjKVs4"
      },
      "source": [],
      "execution_count": null,
      "outputs": []
    },
    {
      "cell_type": "markdown",
      "metadata": {
        "id": "-k6tnU3HKVs4"
      },
      "source": [
        "<!--NAVIGATION-->\n",
        "< [2.5 Stochastic Programming](https://ndcbe.github.io/CBE60499/02.05-SP.html) | [Contents](toc.html) | [2.7 Pyomo Homework 2](https://ndcbe.github.io/CBE60499/02.07-Pyomo2.html) ><p><a href=\"https://colab.research.google.com/github/ndcbe/CBE60499/blob/master/docs/02.06-Pyomo1.ipynb\"> <img align=\"left\" src=\"https://colab.research.google.com/assets/colab-badge.svg\" alt=\"Open in Colab\" title=\"Open in Google Colaboratory\"></a><p><a href=\"https://ndcbe.github.io/CBE60499/02.06-Pyomo1.ipynb\"> <img align=\"left\" src=\"https://img.shields.io/badge/Github-Download-blue.svg\" alt=\"Download\" title=\"Download Notebook\"></a>"
      ]
    }
  ]
}